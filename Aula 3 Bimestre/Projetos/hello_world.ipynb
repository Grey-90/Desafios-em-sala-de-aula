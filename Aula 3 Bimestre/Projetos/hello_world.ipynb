{
 "cells": [
  {
   "cell_type": "code",
   "execution_count": null,
   "metadata": {},
   "outputs": [
    {
     "name": "stdout",
     "output_type": "stream",
     "text": [
      "7\n",
      "5\n",
      "4\n",
      "2.0\n",
      "1024\n"
     ]
    }
   ],
   "source": [
    "print(\"Olá mundo\")\n",
    "\n",
    "# ----------------------------------\n",
    "# X, Y, Z\n",
    "\n",
    "x = 5\n",
    "y = 2\n",
    "z = 10\n",
    "\n",
    "print(x + y) # Soma\n",
    "print(z - x) # subtração\n",
    "print(y * y) # Multiplicação\n",
    "print(z/x) # Divisão\n",
    "print(y**z) # Potência"
   ]
  }
 ],
 "metadata": {
  "kernelspec": {
   "display_name": "Python 3",
   "language": "python",
   "name": "python3"
  },
  "language_info": {
   "codemirror_mode": {
    "name": "ipython",
    "version": 3
   },
   "file_extension": ".py",
   "mimetype": "text/x-python",
   "name": "python",
   "nbconvert_exporter": "python",
   "pygments_lexer": "ipython3",
   "version": "3.13.2"
  }
 },
 "nbformat": 4,
 "nbformat_minor": 2
}
